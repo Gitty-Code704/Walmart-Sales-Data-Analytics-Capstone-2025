{
 "cells": [
  {
   "cell_type": "markdown",
   "metadata": {},
   "source": [
    "# Data Dictionary\n",
    "\n",
    "walmart.csv\n",
    "\n",
    "| Column Name                     | Description      | Action(s) |\n",
    "|---------------------------------|----------------|-----------|\n",
    "| User_ID                         | Identification  | cleaned   |\n",
    "| Product_ID                      | Identification  | cleaned   |\n",
    "| Gender                          | Demographic     | cleaned   |\n",
    "| Age                             | Demographic     | cleaned and converted to integers |\n",
    "| Occupation                      | Demographic     | cleaned   |\n",
    "| City_Category                   | Demographic     | cleaned   |\n",
    "| Stay_In_Current_City_Years      | Duration        | cleaned and converted to integers |\n",
    "| Marital_Status                  | Demographic     | cleaned   |\n",
    "| Product_Category                | Category        | cleaned   |\n",
    "| Purchase                        | Total spent     | cleaned   |\n",
    "\n",
    "\n",
    "walmart_sales.csv\n",
    "\n",
    "| Column Name                     | Description      | Action(s) |\n",
    "|---------------------------------|----------------|-----------|\n",
    "| Store                           | Identification  | cleaned and converted to integers   |\n",
    "| Date                            | Identification  | cleaned   |\n",
    "| Weekly_Sales                    | Sales Data     | cleaned and converted to integers   |\n",
    "| Holiday_Flag                    | Holiday        | cleaned and converted to integers |\n",
    "| Temperature                      | Weather Data   | cleaned and converted to integers   |\n",
    "| Fuel_Price                      | Economic Data  | cleaned and converted to integers  |\n",
    "| CPI                             | Economic Data  | cleaned and converted to integers |\n",
    "| Unemployment                    | Economic Data  | cleaned and converted to integers |\n",
    "\n",
    "\n",
    "Combined_walmart_data.csv\n",
    "\n",
    "| Column Name                     | Description      | Action(s) |\n",
    "|----------------------------------|------------------|-----------|\n",
    "| User_ID                         | Identification   | cleaned   |\n",
    "| Product_ID                      | Identification   | cleaned   |\n",
    "| Gender                          | Demographic      | cleaned   |\n",
    "| Age                             | Demographic      | cleaned and converted to integers |\n",
    "| Occupation                      | Demographic      | cleaned   |\n",
    "| City_Category                   | Demographic      | cleaned   |\n",
    "| Stay_In_Current_City_Years      | Duration         | cleaned and converted to integers |\n",
    "| Marital_Status                  | Demographic      | cleaned   |\n",
    "| Product_Category                | Category         | cleaned   |\n",
    "| Purchase                        | Total spent      | cleaned and removed NaN  |\n",
    "| Index                           |                  | created and removed NaN |\n",
    "| Store                           | Identification   | cleaned and removed NaN   |\n",
    "| Date                            | Identification   | cleaned and removed NaN  |\n",
    "| Weekly_Sales                    | Sales Data       | cleaned and removed NaN  |\n",
    "| Holiday_Flag                    | Holiday          | cleaned and removed NaN |\n",
    "| Temperature                      | Weather Data     | cleaned and removed NaN   |\n",
    "| Fuel_Price                      | Economic Data    | cleaned and removed NaN  |\n",
    "| CPI                             | Economic Data    | cleaned and removed NaN |\n",
    "| Unemployment                    | Economic Data    | cleaned and removed NaN |\n",
    "\n",
    "\n"
   ]
  }
 ],
 "metadata": {
  "kernelspec": {
   "display_name": "Python 3",
   "language": "python",
   "name": "python3"
  },
  "language_info": {
   "codemirror_mode": {
    "name": "ipython",
    "version": 3
   },
   "file_extension": ".py",
   "mimetype": "text/x-python",
   "name": "python",
   "nbconvert_exporter": "python",
   "pygments_lexer": "ipython3",
   "version": "3.13.2"
  }
 },
 "nbformat": 4,
 "nbformat_minor": 2
}
