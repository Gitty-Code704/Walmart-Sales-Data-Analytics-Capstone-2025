{
 "cells": [
  {
   "cell_type": "markdown",
   "metadata": {},
   "source": [
    "# Data Dictionary\n",
    "\n",
    "walmart.csv\n",
    "\n",
    "| Column Name | Description | Action(s) |\n",
    "|-------------|----------|--------------|\n",
    "| User_ID     | Identification | cleaned |\n",
    "| Product_ID  | Identification | cleaned | \n",
    "| Gender      | Demographic | \n",
    "| Age         | Demographic |\n",
    "| Occupation  | Demographic |\n",
    "| City_Category | Demographic |\n",
    "| stay_In_Current_City_Years | \n",
    "| Marital_Status | Demographic |\n",
    "| Product_Category | Category |\n",
    "| Purchase | Total spent |"
   ]
  }
 ],
 "metadata": {
  "kernelspec": {
   "display_name": "Python 3",
   "language": "python",
   "name": "python3"
  },
  "language_info": {
   "codemirror_mode": {
    "name": "ipython",
    "version": 3
   },
   "file_extension": ".py",
   "mimetype": "text/x-python",
   "name": "python",
   "nbconvert_exporter": "python",
   "pygments_lexer": "ipython3",
   "version": "3.13.2"
  }
 },
 "nbformat": 4,
 "nbformat_minor": 2
}
