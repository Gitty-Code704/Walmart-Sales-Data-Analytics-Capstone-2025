{
 "cells": [
  {
   "cell_type": "markdown",
   "metadata": {},
   "source": [
    "Walmart Sales Data Analytics Capstone 2025\n",
    "\n",
    "This project highlights walmart sales based on the top ten spenders, top selling products, age, and holidays vs non-holidays. "
   ]
  },
  {
   "cell_type": "markdown",
   "metadata": {},
   "source": [
    "Import packages to run the notebook. "
   ]
  },
  {
   "cell_type": "code",
   "execution_count": 173,
   "metadata": {},
   "outputs": [],
   "source": [
    "import os\n",
    "import pandas as pd\n",
    "import zipfile\n",
    "import warnings\n",
    "warnings.filterwarnings(\"ignore\")  # Ignore warnings for cleaner output"
   ]
  },
  {
   "cell_type": "markdown",
   "metadata": {},
   "source": [
    "Get the current working directory. This should display as a path. "
   ]
  },
  {
   "cell_type": "code",
   "execution_count": 174,
   "metadata": {},
   "outputs": [
    {
     "name": "stdout",
     "output_type": "stream",
     "text": [
      "Base Directory: c:\\Users\\Kyisha\\OneDrive\\Walmart Sales Data Analytics Capstone 2025\n"
     ]
    }
   ],
   "source": [
    "base_dir = os.getcwd()\n",
    "\n",
    "print (f\"Base Directory: {base_dir}\") # this will be unique to your environment or machine"
   ]
  },
  {
   "cell_type": "markdown",
   "metadata": {},
   "source": [
    "This is the relative ZIP file path for Dataset 1. "
   ]
  },
  {
   "cell_type": "code",
   "execution_count": 175,
   "metadata": {},
   "outputs": [],
   "source": [
    "# Data Cleaning and Preprocessing Script\n",
    "# Dataset 1\n",
    "# Define the relative ZIP file path\n",
    "zip_file_path = os.path.join(base_dir, \"Dataset_1.zip\")"
   ]
  },
  {
   "cell_type": "markdown",
   "metadata": {},
   "source": [
    "This verifies the extracted_files directory where raw data will be stored. "
   ]
  },
  {
   "cell_type": "code",
   "execution_count": 176,
   "metadata": {},
   "outputs": [],
   "source": [
    "# ensure extraction directory exists\n",
    "extract_dir = os.path.join(base_dir, \"extracted_files\")\n",
    "os.makedirs(extract_dir, exist_ok=True)"
   ]
  },
  {
   "cell_type": "markdown",
   "metadata": {},
   "source": [
    "This opens the ZIP file and verifies the correct files are present. "
   ]
  },
  {
   "cell_type": "code",
   "execution_count": 177,
   "metadata": {},
   "outputs": [
    {
     "name": "stdout",
     "output_type": "stream",
     "text": [
      "Extraction Complete. Files are stored in: c:\\Users\\Kyisha\\OneDrive\\Walmart Sales Data Analytics Capstone 2025\\extracted_files\n",
      "Extracted Files:\n",
      "walmart.csv\n",
      "Walmart_Sales.csv\n"
     ]
    }
   ],
   "source": [
    "# Open the ZIP file and extract contents\n",
    "with zipfile.ZipFile(zip_file_path, 'r') as zip_ref:\n",
    "    zip_ref.extractall(extract_dir)\n",
    "\n",
    "print(\"Extraction Complete. Files are stored in:\", extract_dir)\n",
    "\n",
    "# List the extracted files\n",
    "extracted_files = os.listdir(extract_dir)\n",
    "print(\"Extracted Files:\")\n",
    "for file in extracted_files:\n",
    "    print(file)"
   ]
  },
  {
   "cell_type": "markdown",
   "metadata": {},
   "source": [
    "Load the first csv walmart.csv file. "
   ]
  },
  {
   "cell_type": "code",
   "execution_count": 178,
   "metadata": {},
   "outputs": [
    {
     "name": "stdout",
     "output_type": "stream",
     "text": [
      "   User_ID Product_ID Gender   Age  Occupation City_Category  \\\n",
      "0  1000001  P00069042      F  0-17          10             A   \n",
      "1  1000001  P00248942      F  0-17          10             A   \n",
      "2  1000001  P00087842      F  0-17          10             A   \n",
      "3  1000001  P00085442      F  0-17          10             A   \n",
      "4  1000002  P00285442      M   55+          16             C   \n",
      "\n",
      "  Stay_In_Current_City_Years  Marital_Status  Product_Category  Purchase  \n",
      "0                          2               0                 3      8370  \n",
      "1                          2               0                 1     15200  \n",
      "2                          2               0                12      1422  \n",
      "3                          2               0                12      1057  \n",
      "4                         4+               0                 8      7969  \n"
     ]
    }
   ],
   "source": [
    "# Load the CSV file into a DataFrame\n",
    "df = pd.read_csv(os.path.join(extract_dir, \"walmart.csv\"))\n",
    "\n",
    "# Display the first few rows\n",
    "print(df.head())"
   ]
  },
  {
   "cell_type": "markdown",
   "metadata": {},
   "source": [
    "There are no missing values. "
   ]
  },
  {
   "cell_type": "code",
   "execution_count": 179,
   "metadata": {},
   "outputs": [
    {
     "name": "stdout",
     "output_type": "stream",
     "text": [
      "Missing values in each column:\n",
      " User_ID                       0\n",
      "Product_ID                    0\n",
      "Gender                        0\n",
      "Age                           0\n",
      "Occupation                    0\n",
      "City_Category                 0\n",
      "Stay_In_Current_City_Years    0\n",
      "Marital_Status                0\n",
      "Product_Category              0\n",
      "Purchase                      0\n",
      "dtype: int64\n"
     ]
    }
   ],
   "source": [
    "# Check for missing values\n",
    "missing_values = df.isnull().sum()\n",
    "\n",
    "print(\"Missing values in each column:\\n\", missing_values)"
   ]
  },
  {
   "cell_type": "markdown",
   "metadata": {},
   "source": [
    "Check for duplicate rows. There are none. "
   ]
  },
  {
   "cell_type": "code",
   "execution_count": 180,
   "metadata": {},
   "outputs": [
    {
     "name": "stdout",
     "output_type": "stream",
     "text": [
      "0\n"
     ]
    }
   ],
   "source": [
    "# Check for duplicate rows\n",
    "print(df.duplicated().sum())"
   ]
  },
  {
   "cell_type": "markdown",
   "metadata": {},
   "source": [
    "Conversion to integers eliminates mixed data types and keeps data clean. "
   ]
  },
  {
   "cell_type": "code",
   "execution_count": 181,
   "metadata": {},
   "outputs": [
    {
     "name": "stdout",
     "output_type": "stream",
     "text": [
      "Data types after conversion:\n",
      " User_ID                        int64\n",
      "Product_ID                    object\n",
      "Gender                        object\n",
      "Age                           object\n",
      "Occupation                     int64\n",
      "City_Category                 object\n",
      "Stay_In_Current_City_Years     int64\n",
      "Marital_Status                 int64\n",
      "Product_Category               int64\n",
      "Purchase                       int64\n",
      "dtype: object\n"
     ]
    }
   ],
   "source": [
    "# Convert 'Stay_In_Current_City_Years' to numeric, replacing '4+' with 4\n",
    "df['Stay_In_Current_City_Years'] = df['Stay_In_Current_City_Years']. replace('4+', 4).astype(int)\n",
    "\n",
    "print(\"Data types after conversion:\\n\", df.dtypes)"
   ]
  },
  {
   "cell_type": "markdown",
   "metadata": {},
   "source": [
    "Treat Age column as a string before conversion (ex. 0,1,2,3....17). "
   ]
  },
  {
   "cell_type": "code",
   "execution_count": 182,
   "metadata": {},
   "outputs": [],
   "source": [
    "df['Age'] = df['Age'].astype(str).replace(age_mapping)"
   ]
  },
  {
   "cell_type": "code",
   "execution_count": 183,
   "metadata": {},
   "outputs": [],
   "source": [
    "# Mapping age ranges to their midpoint values\n",
    "age_mapping = {\n",
    "    '0-17': 9, '18-25': 21, '26-35': 30, '36-45': 40, \n",
    "    '46-50': 48, '51-55': 53, '55+': 55\n",
    "}"
   ]
  },
  {
   "cell_type": "markdown",
   "metadata": {},
   "source": [
    "Should display integer values. "
   ]
  },
  {
   "cell_type": "code",
   "execution_count": 184,
   "metadata": {},
   "outputs": [
    {
     "name": "stdout",
     "output_type": "stream",
     "text": [
      "[ 9 55 30 48 53 40 21]\n"
     ]
    }
   ],
   "source": [
    "# Verify conversion\n",
    "print(df['Age'].unique())"
   ]
  },
  {
   "cell_type": "markdown",
   "metadata": {},
   "source": [
    "Further verifying conversion by checking data type which is 8 integer values. "
   ]
  },
  {
   "cell_type": "code",
   "execution_count": 185,
   "metadata": {},
   "outputs": [
    {
     "name": "stdout",
     "output_type": "stream",
     "text": [
      "User_ID                        int64\n",
      "Product_ID                    object\n",
      "Gender                        object\n",
      "Age                            int64\n",
      "Occupation                     int64\n",
      "City_Category                 object\n",
      "Stay_In_Current_City_Years     int64\n",
      "Marital_Status                 int64\n",
      "Product_Category               int64\n",
      "Purchase                       int64\n",
      "dtype: object\n"
     ]
    }
   ],
   "source": [
    "print(df.dtypes)  # Check data types after conversion"
   ]
  },
  {
   "cell_type": "markdown",
   "metadata": {},
   "source": [
    "View of cleaning in dataset. "
   ]
  },
  {
   "cell_type": "code",
   "execution_count": 186,
   "metadata": {},
   "outputs": [
    {
     "name": "stdout",
     "output_type": "stream",
     "text": [
      "   User_ID Product_ID Gender  Age  Occupation City_Category  \\\n",
      "0  1000001  P00069042      F    9          10             A   \n",
      "1  1000001  P00248942      F    9          10             A   \n",
      "2  1000001  P00087842      F    9          10             A   \n",
      "3  1000001  P00085442      F    9          10             A   \n",
      "4  1000002  P00285442      M   55          16             C   \n",
      "\n",
      "   Stay_In_Current_City_Years  Marital_Status  Product_Category  Purchase  \n",
      "0                           2               0                 3      8370  \n",
      "1                           2               0                 1     15200  \n",
      "2                           2               0                12      1422  \n",
      "3                           2               0                12      1057  \n",
      "4                           4               0                 8      7969  \n"
     ]
    }
   ],
   "source": [
    "print(df.head())  # Display first few rows"
   ]
  },
  {
   "cell_type": "markdown",
   "metadata": {},
   "source": [
    "Save cleaned dataset to a new csv file. "
   ]
  },
  {
   "cell_type": "code",
   "execution_count": 187,
   "metadata": {},
   "outputs": [
    {
     "name": "stdout",
     "output_type": "stream",
     "text": [
      "Cleaned data saved to 'cleaned_walmart_data.csv'\n"
     ]
    }
   ],
   "source": [
    "df.to_csv(\"cleaned_walmart_data.csv\", index=False)\n",
    "\n",
    "print(\"Cleaned data saved to 'cleaned_walmart_data.csv'\") # output message"
   ]
  },
  {
   "cell_type": "markdown",
   "metadata": {},
   "source": [
    "This is the relative ZIP file path for Dataset 2. "
   ]
  },
  {
   "cell_type": "code",
   "execution_count": 188,
   "metadata": {},
   "outputs": [],
   "source": [
    "# Dataset 2\n",
    "# Define the relative ZIP file path\n",
    "zip_file_path = os.path.join(base_dir, \"Dataset_2.zip\")"
   ]
  },
  {
   "cell_type": "markdown",
   "metadata": {},
   "source": [
    "This opens the ZIP file and verifies the correct files are present. "
   ]
  },
  {
   "cell_type": "code",
   "execution_count": 189,
   "metadata": {},
   "outputs": [
    {
     "name": "stdout",
     "output_type": "stream",
     "text": [
      "Extraction Complete. Files are stored in: c:\\Users\\Kyisha\\OneDrive\\Walmart Sales Data Analytics Capstone 2025\\extracted_files\n",
      "Extracted Files:\n",
      "walmart.csv\n",
      "Walmart_Sales.csv\n"
     ]
    }
   ],
   "source": [
    "# Open the ZIP file and extract contents\n",
    "with zipfile.ZipFile(zip_file_path, 'r') as zip_ref:\n",
    "    zip_ref.extractall(extract_dir)\n",
    "\n",
    "print(\"Extraction Complete. Files are stored in:\", extract_dir)\n",
    "\n",
    "# List the extracted files\n",
    "extracted_files = os.listdir(extract_dir)\n",
    "print(\"Extracted Files:\")\n",
    "for file in extracted_files:\n",
    "    print(file)"
   ]
  },
  {
   "cell_type": "markdown",
   "metadata": {},
   "source": [
    "Load the second csv file Walmart_Sales.csv."
   ]
  },
  {
   "cell_type": "code",
   "execution_count": 190,
   "metadata": {},
   "outputs": [
    {
     "name": "stdout",
     "output_type": "stream",
     "text": [
      "   Store        Date  Weekly_Sales  Holiday_Flag  Temperature  Fuel_Price  \\\n",
      "0      1  05-02-2010    1643690.90             0        42.31       2.572   \n",
      "1      1  12-02-2010    1641957.44             1        38.51       2.548   \n",
      "2      1  19-02-2010    1611968.17             0        39.93       2.514   \n",
      "3      1  26-02-2010    1409727.59             0        46.63       2.561   \n",
      "4      1  05-03-2010    1554806.68             0        46.50       2.625   \n",
      "\n",
      "          CPI  Unemployment  \n",
      "0  211.096358         8.106  \n",
      "1  211.242170         8.106  \n",
      "2  211.289143         8.106  \n",
      "3  211.319643         8.106  \n",
      "4  211.350143         8.106  \n"
     ]
    }
   ],
   "source": [
    "df = pd.read_csv(os.path.join(extract_dir, \"Walmart_Sales.csv\"))\n",
    "\n",
    "# Display the first few rows\n",
    "print(df.head())"
   ]
  },
  {
   "cell_type": "markdown",
   "metadata": {},
   "source": [
    "Check for missing values. There are none. "
   ]
  },
  {
   "cell_type": "code",
   "execution_count": 191,
   "metadata": {},
   "outputs": [
    {
     "name": "stdout",
     "output_type": "stream",
     "text": [
      "Missing values in each column:\n",
      " Store           0\n",
      "Date            0\n",
      "Weekly_Sales    0\n",
      "Holiday_Flag    0\n",
      "Temperature     0\n",
      "Fuel_Price      0\n",
      "CPI             0\n",
      "Unemployment    0\n",
      "dtype: int64\n"
     ]
    }
   ],
   "source": [
    "missing_values = df.isnull().sum()\n",
    "\n",
    "print(\"Missing values in each column:\\n\", missing_values)"
   ]
  },
  {
   "cell_type": "markdown",
   "metadata": {},
   "source": [
    "Check for duplicate values. There are none. "
   ]
  },
  {
   "cell_type": "code",
   "execution_count": 192,
   "metadata": {},
   "outputs": [
    {
     "name": "stdout",
     "output_type": "stream",
     "text": [
      "0\n"
     ]
    }
   ],
   "source": [
    "# Check for duplicate rows (none found in the dataset)\n",
    "print(df.duplicated().sum())"
   ]
  },
  {
   "cell_type": "markdown",
   "metadata": {},
   "source": [
    "Print data types prior to conversions. "
   ]
  },
  {
   "cell_type": "code",
   "execution_count": 193,
   "metadata": {},
   "outputs": [
    {
     "name": "stdout",
     "output_type": "stream",
     "text": [
      "Store             int64\n",
      "Date             object\n",
      "Weekly_Sales    float64\n",
      "Holiday_Flag      int64\n",
      "Temperature     float64\n",
      "Fuel_Price      float64\n",
      "CPI             float64\n",
      "Unemployment    float64\n",
      "dtype: object\n"
     ]
    }
   ],
   "source": [
    "print(df.dtypes)"
   ]
  },
  {
   "cell_type": "markdown",
   "metadata": {},
   "source": [
    "Select float columns. "
   ]
  },
  {
   "cell_type": "code",
   "execution_count": 194,
   "metadata": {},
   "outputs": [],
   "source": [
    "float_columns = df.select_dtypes(include=['float64']).columns.tolist()"
   ]
  },
  {
   "cell_type": "markdown",
   "metadata": {},
   "source": [
    "Convert float columns to integers by rounding. "
   ]
  },
  {
   "cell_type": "code",
   "execution_count": 195,
   "metadata": {},
   "outputs": [],
   "source": [
    "for col in float_columns:\n",
    "    df[col] = df[col].round().astype(int)"
   ]
  },
  {
   "cell_type": "markdown",
   "metadata": {},
   "source": [
    "Verify the conversion. "
   ]
  },
  {
   "cell_type": "code",
   "execution_count": 196,
   "metadata": {},
   "outputs": [
    {
     "name": "stdout",
     "output_type": "stream",
     "text": [
      "Store            int64\n",
      "Date            object\n",
      "Weekly_Sales     int64\n",
      "Holiday_Flag     int64\n",
      "Temperature      int64\n",
      "Fuel_Price       int64\n",
      "CPI              int64\n",
      "Unemployment     int64\n",
      "dtype: object\n",
      "   Store        Date  Weekly_Sales  Holiday_Flag  Temperature  Fuel_Price  \\\n",
      "0      1  05-02-2010       1643691             0           42           3   \n",
      "1      1  12-02-2010       1641957             1           39           3   \n",
      "2      1  19-02-2010       1611968             0           40           3   \n",
      "3      1  26-02-2010       1409728             0           47           3   \n",
      "4      1  05-03-2010       1554807             0           46           3   \n",
      "\n",
      "   CPI  Unemployment  \n",
      "0  211             8  \n",
      "1  211             8  \n",
      "2  211             8  \n",
      "3  211             8  \n",
      "4  211             8  \n"
     ]
    }
   ],
   "source": [
    "print(df.dtypes)\n",
    "\n",
    "print(df.head())"
   ]
  },
  {
   "cell_type": "markdown",
   "metadata": {},
   "source": [
    "Save the cleaned dataset to a new CSV file."
   ]
  },
  {
   "cell_type": "code",
   "execution_count": 197,
   "metadata": {},
   "outputs": [
    {
     "name": "stdout",
     "output_type": "stream",
     "text": [
      "Cleaned sales data saved to 'cleaned_walmart_sales_data.csv'\n"
     ]
    }
   ],
   "source": [
    "# Save the cleaned DataFrame to a new CSV file\n",
    "df.to_csv(\"cleaned_walmart_sales_data.csv\", index=False)\n",
    "print(\"Cleaned sales data saved to 'cleaned_walmart_sales_data.csv'\")  # Confirmation message"
   ]
  },
  {
   "cell_type": "markdown",
   "metadata": {},
   "source": [
    "Load the cleaned datasets. "
   ]
  },
  {
   "cell_type": "code",
   "execution_count": 198,
   "metadata": {},
   "outputs": [],
   "source": [
    "df1 = pd.read_csv(os.path.join(base_dir, \"cleaned_walmart_data.csv\"))\n",
    "df2 = pd.read_csv(os.path.join(base_dir, \"cleaned_walmart_sales_data.csv\"))"
   ]
  },
  {
   "cell_type": "markdown",
   "metadata": {},
   "source": [
    "Preview the cleaned data. "
   ]
  },
  {
   "cell_type": "code",
   "execution_count": 199,
   "metadata": {},
   "outputs": [
    {
     "name": "stdout",
     "output_type": "stream",
     "text": [
      "DataFrame 1:\n",
      "    User_ID Product_ID Gender  Age  Occupation City_Category  \\\n",
      "0  1000001  P00069042      F    9          10             A   \n",
      "1  1000001  P00248942      F    9          10             A   \n",
      "2  1000001  P00087842      F    9          10             A   \n",
      "3  1000001  P00085442      F    9          10             A   \n",
      "4  1000002  P00285442      M   55          16             C   \n",
      "\n",
      "   Stay_In_Current_City_Years  Marital_Status  Product_Category  Purchase  \n",
      "0                           2               0                 3      8370  \n",
      "1                           2               0                 1     15200  \n",
      "2                           2               0                12      1422  \n",
      "3                           2               0                12      1057  \n",
      "4                           4               0                 8      7969  \n"
     ]
    }
   ],
   "source": [
    "# Display the first few rows of dataset 1\n",
    "print(\"DataFrame 1:\\n\", df1.head())"
   ]
  },
  {
   "cell_type": "code",
   "execution_count": 200,
   "metadata": {},
   "outputs": [
    {
     "name": "stdout",
     "output_type": "stream",
     "text": [
      "DataFrame 2:\n",
      "    Store        Date  Weekly_Sales  Holiday_Flag  Temperature  Fuel_Price  \\\n",
      "0      1  05-02-2010       1643691             0           42           3   \n",
      "1      1  12-02-2010       1641957             1           39           3   \n",
      "2      1  19-02-2010       1611968             0           40           3   \n",
      "3      1  26-02-2010       1409728             0           47           3   \n",
      "4      1  05-03-2010       1554807             0           46           3   \n",
      "\n",
      "   CPI  Unemployment  \n",
      "0  211             8  \n",
      "1  211             8  \n",
      "2  211             8  \n",
      "3  211             8  \n",
      "4  211             8  \n"
     ]
    }
   ],
   "source": [
    "# Display the first few rows of dataset 2\n",
    "print(\"DataFrame 2:\\n\", df2.head())"
   ]
  },
  {
   "cell_type": "markdown",
   "metadata": {},
   "source": [
    "Create a new index prior to merging the data. The columns or rows do not share similar names."
   ]
  },
  {
   "cell_type": "code",
   "execution_count": 201,
   "metadata": {},
   "outputs": [],
   "source": [
    "df1.reset_index(inplace=True)\n",
    "df2.reset_index(inplace=True)"
   ]
  },
  {
   "cell_type": "markdown",
   "metadata": {},
   "source": [
    "Merge the datasets."
   ]
  },
  {
   "cell_type": "code",
   "execution_count": 202,
   "metadata": {},
   "outputs": [
    {
     "name": "stdout",
     "output_type": "stream",
     "text": [
      "         index  User_ID Product_ID Gender  Age  Occupation City_Category  \\\n",
      "0            0  1000001  P00069042      F    9          10             A   \n",
      "1            1  1000001  P00248942      F    9          10             A   \n",
      "2            2  1000001  P00087842      F    9          10             A   \n",
      "3            3  1000001  P00085442      F    9          10             A   \n",
      "4            4  1000002  P00285442      M   55          16             C   \n",
      "...        ...      ...        ...    ...  ...         ...           ...   \n",
      "550063  550063  1006033  P00372445      M   53          13             B   \n",
      "550064  550064  1006035  P00375436      F   30           1             C   \n",
      "550065  550065  1006036  P00375436      F   30          15             B   \n",
      "550066  550066  1006038  P00375436      F   55           1             C   \n",
      "550067  550067  1006039  P00371644      F   48           0             B   \n",
      "\n",
      "        Stay_In_Current_City_Years  Marital_Status  Product_Category  \\\n",
      "0                                2               0                 3   \n",
      "1                                2               0                 1   \n",
      "2                                2               0                12   \n",
      "3                                2               0                12   \n",
      "4                                4               0                 8   \n",
      "...                            ...             ...               ...   \n",
      "550063                           1               1                20   \n",
      "550064                           3               0                20   \n",
      "550065                           4               1                20   \n",
      "550066                           2               0                20   \n",
      "550067                           4               1                20   \n",
      "\n",
      "        Purchase  index  Store        Date  Weekly_Sales  Holiday_Flag  \\\n",
      "0           8370    0.0    1.0  05-02-2010     1643691.0           0.0   \n",
      "1          15200    1.0    1.0  12-02-2010     1641957.0           1.0   \n",
      "2           1422    2.0    1.0  19-02-2010     1611968.0           0.0   \n",
      "3           1057    3.0    1.0  26-02-2010     1409728.0           0.0   \n",
      "4           7969    4.0    1.0  05-03-2010     1554807.0           0.0   \n",
      "...          ...    ...    ...         ...           ...           ...   \n",
      "550063       368    NaN    NaN         NaN           NaN           NaN   \n",
      "550064       371    NaN    NaN         NaN           NaN           NaN   \n",
      "550065       137    NaN    NaN         NaN           NaN           NaN   \n",
      "550066       365    NaN    NaN         NaN           NaN           NaN   \n",
      "550067       490    NaN    NaN         NaN           NaN           NaN   \n",
      "\n",
      "        Temperature  Fuel_Price    CPI  Unemployment  \n",
      "0              42.0         3.0  211.0           8.0  \n",
      "1              39.0         3.0  211.0           8.0  \n",
      "2              40.0         3.0  211.0           8.0  \n",
      "3              47.0         3.0  211.0           8.0  \n",
      "4              46.0         3.0  211.0           8.0  \n",
      "...             ...         ...    ...           ...  \n",
      "550063          NaN         NaN    NaN           NaN  \n",
      "550064          NaN         NaN    NaN           NaN  \n",
      "550065          NaN         NaN    NaN           NaN  \n",
      "550066          NaN         NaN    NaN           NaN  \n",
      "550067          NaN         NaN    NaN           NaN  \n",
      "\n",
      "[550068 rows x 20 columns]\n"
     ]
    }
   ],
   "source": [
    "df_combined = pd.concat([df1, df2], axis=1)\n",
    "\n",
    "# Display the first few rows of the combined dataset\n",
    "print(df_combined)"
   ]
  },
  {
   "cell_type": "markdown",
   "metadata": {},
   "source": [
    "Drop rows with NaN values which are empty. "
   ]
  },
  {
   "cell_type": "code",
   "execution_count": 203,
   "metadata": {},
   "outputs": [
    {
     "name": "stdout",
     "output_type": "stream",
     "text": [
      "Data after dropping NaN values:\n",
      "    index  User_ID Product_ID Gender  Age  Occupation City_Category  \\\n",
      "0      0  1000001  P00069042      F    9          10             A   \n",
      "1      1  1000001  P00248942      F    9          10             A   \n",
      "2      2  1000001  P00087842      F    9          10             A   \n",
      "3      3  1000001  P00085442      F    9          10             A   \n",
      "4      4  1000002  P00285442      M   55          16             C   \n",
      "\n",
      "   Stay_In_Current_City_Years  Marital_Status  Product_Category  Purchase  \\\n",
      "0                           2               0                 3      8370   \n",
      "1                           2               0                 1     15200   \n",
      "2                           2               0                12      1422   \n",
      "3                           2               0                12      1057   \n",
      "4                           4               0                 8      7969   \n",
      "\n",
      "   index  Store        Date  Weekly_Sales  Holiday_Flag  Temperature  \\\n",
      "0    0.0    1.0  05-02-2010     1643691.0           0.0         42.0   \n",
      "1    1.0    1.0  12-02-2010     1641957.0           1.0         39.0   \n",
      "2    2.0    1.0  19-02-2010     1611968.0           0.0         40.0   \n",
      "3    3.0    1.0  26-02-2010     1409728.0           0.0         47.0   \n",
      "4    4.0    1.0  05-03-2010     1554807.0           0.0         46.0   \n",
      "\n",
      "   Fuel_Price    CPI  Unemployment  \n",
      "0         3.0  211.0           8.0  \n",
      "1         3.0  211.0           8.0  \n",
      "2         3.0  211.0           8.0  \n",
      "3         3.0  211.0           8.0  \n",
      "4         3.0  211.0           8.0  \n"
     ]
    }
   ],
   "source": [
    "df_combined.dropna(inplace=True)\n",
    "\n",
    "print(\"Data after dropping NaN values:\\n\", df_combined.head())"
   ]
  },
  {
   "cell_type": "markdown",
   "metadata": {},
   "source": [
    "Customer spending analysis. "
   ]
  },
  {
   "cell_type": "code",
   "execution_count": 204,
   "metadata": {},
   "outputs": [
    {
     "name": "stdout",
     "output_type": "stream",
     "text": [
      "Total spend per user:\n",
      " User_ID\n",
      "1000001     334093\n",
      "1000002     810472\n",
      "1000003     341635\n",
      "1000004     206468\n",
      "1000005     821001\n",
      "            ...   \n",
      "1006036    4116058\n",
      "1006037    1119538\n",
      "1006038      90034\n",
      "1006039     590319\n",
      "1006040    1653299\n",
      "Name: Purchase, Length: 5891, dtype: int64\n"
     ]
    }
   ],
   "source": [
    "total_spend = df1.groupby(\"User_ID\")[\"Purchase\"].sum()\n",
    "print(\"Total spend per user:\\n\", total_spend)"
   ]
  },
  {
   "cell_type": "markdown",
   "metadata": {},
   "source": [
    "Average spent based on age group analysis. "
   ]
  },
  {
   "cell_type": "code",
   "execution_count": 205,
   "metadata": {},
   "outputs": [
    {
     "name": "stdout",
     "output_type": "stream",
     "text": [
      "Average spend by age group:\n",
      " Age\n",
      "9     8933.464640\n",
      "21    9169.663606\n",
      "30    9252.690633\n",
      "40    9331.350695\n",
      "48    9208.625697\n",
      "53    9534.808031\n",
      "55    9336.280459\n",
      "Name: Purchase, dtype: float64\n"
     ]
    }
   ],
   "source": [
    "avg_spend_age = df1.groupby(\"Age\")[\"Purchase\"].mean()\n",
    "print(\"Average spend by age group:\\n\", avg_spend_age)"
   ]
  },
  {
   "cell_type": "markdown",
   "metadata": {},
   "source": [
    "Rounded values for cleaning."
   ]
  },
  {
   "cell_type": "code",
   "execution_count": 206,
   "metadata": {},
   "outputs": [
    {
     "name": "stdout",
     "output_type": "stream",
     "text": [
      "Average spend by age group (rounded):\n",
      " Age\n",
      "9     8933\n",
      "21    9170\n",
      "30    9253\n",
      "40    9331\n",
      "48    9209\n",
      "53    9535\n",
      "55    9336\n",
      "Name: Purchase, dtype: int64\n"
     ]
    }
   ],
   "source": [
    "# Round the average spent by age group to the nearest integer\n",
    "avg_spend_age = df1.groupby(\"Age\")[\"Purchase\"].mean().round(0).astype(int)\n",
    "print(\"Average spend by age group (rounded):\\n\", avg_spend_age)"
   ]
  },
  {
   "cell_type": "markdown",
   "metadata": {},
   "source": [
    "Verifying Holiday_Flag column existed due to unexpected error. Total sales listed after verification. $6,231,919,429.00 in sales made on non holiday days!"
   ]
  },
  {
   "cell_type": "code",
   "execution_count": 207,
   "metadata": {},
   "outputs": [
    {
     "name": "stdout",
     "output_type": "stream",
     "text": [
      "Total sales during holidays:\n",
      " Holiday_Flag\n",
      "0    6231919429\n",
      "1     505299550\n",
      "Name: Weekly_Sales, dtype: int64\n"
     ]
    }
   ],
   "source": [
    "# Check if 'Holiday_Flag' column exists in df2\n",
    "if \"Holiday_Flag\" in df2.columns and \"Weekly_Sales\" in df2.columns:\n",
    "    # Total sales holiday and non-holiday\n",
    "    sales_holiday = df2.groupby(\"Holiday_Flag\")[\"Weekly_Sales\"].sum()\n",
    "    print(\"Total sales during holidays:\\n\", sales_holiday)\n",
    "else:\n",
    "    print(\"Error: 'Holiday_Flag' or 'Weekly_Sales' column is missing in df2.\")"
   ]
  },
  {
   "cell_type": "markdown",
   "metadata": {},
   "source": [
    "Save combined dataset to new CSV file. "
   ]
  },
  {
   "cell_type": "code",
   "execution_count": 208,
   "metadata": {},
   "outputs": [
    {
     "name": "stdout",
     "output_type": "stream",
     "text": [
      "Combined data saved to 'combined_walmart_data.csv'\n"
     ]
    }
   ],
   "source": [
    "df_combined.to_csv(\"combined_data.csv\", index=False)\n",
    "print(\"Combined data saved to 'combined_walmart_data.csv'\")  # Confirmation message"
   ]
  },
  {
   "cell_type": "markdown",
   "metadata": {},
   "source": [
    "Import packages for visualizations. "
   ]
  },
  {
   "cell_type": "code",
   "execution_count": 209,
   "metadata": {},
   "outputs": [],
   "source": [
    "import matplotlib.pyplot as plt\n",
    "import matplotlib.ticker as mtick\n",
    "from matplotlib.ticker import ScalarFormatter\n",
    "import seaborn as sns"
   ]
  },
  {
   "cell_type": "markdown",
   "metadata": {},
   "source": [
    "Column #13 'Store' has a mixed data type so it must be treated as a string prior to visulaization. "
   ]
  },
  {
   "cell_type": "code",
   "execution_count": 210,
   "metadata": {},
   "outputs": [],
   "source": [
    "dtype = {'column_name': str}  "
   ]
  },
  {
   "cell_type": "markdown",
   "metadata": {},
   "source": [
    "Load the combined data CSV file. "
   ]
  },
  {
   "cell_type": "code",
   "execution_count": 211,
   "metadata": {},
   "outputs": [],
   "source": [
    "\n",
    "df = pd.read_csv(os.path.join(base_dir, \"combined_walmart_data.csv\"))"
   ]
  },
  {
   "cell_type": "markdown",
   "metadata": {},
   "source": [
    "1. Top 10 Selling Products. The highest product made $426,925.00 in revenue. "
   ]
  },
  {
   "cell_type": "code",
   "execution_count": 212,
   "metadata": {},
   "outputs": [
    {
     "name": "stdout",
     "output_type": "stream",
     "text": [
      "Top selling products:\n",
      " Product_ID\n",
      "P00112142    426925\n",
      "P00110942    367990\n",
      "P00025442    366647\n",
      "P00184942    349327\n",
      "P00059442    331582\n",
      "P00334242    325960\n",
      "P00110742    305878\n",
      "P00057642    304008\n",
      "P00112542    276027\n",
      "P00085942    269127\n",
      "Name: Purchase, dtype: int64\n"
     ]
    }
   ],
   "source": [
    "# Group by Product ID and the purchase amounts\n",
    "top_products = df.groupby(\"Product_ID\")[\"Purchase\"].sum().sort_values(ascending=False).head(10)\n",
    "\n",
    "print(\"Top selling products:\\n\", top_products)"
   ]
  },
  {
   "cell_type": "markdown",
   "metadata": {},
   "source": [
    "Plot for Top 10 selling products. "
   ]
  },
  {
   "cell_type": "code",
   "execution_count": 213,
   "metadata": {},
   "outputs": [
    {
     "data": {
      "image/png": "[encoded data removed]",
      "text/plain": [
       "<Figure size 1200x600 with 1 Axes>"
      ]
     },
     "metadata": {},
     "output_type": "display_data"
    }
   ],
   "source": [
    "plt.figure(figsize=(12, 6))\n",
    "sns.barplot(x=top_products.index, y=top_products.values, palette=\"Blues\", edgecolor=\"black\")\n",
    "\n",
    "# Labels & title\n",
    "plt.xlabel(\"Product ID\")\n",
    "plt.ylabel(\"Total Sales ($)\")\n",
    "plt.title(\"Top 10 Best-Selling Products\")\n",
    "plt.xticks(rotation=45)\n",
    "\n",
    "# Format Y-axis with commas for readability\n",
    "plt.gca().yaxis.set_major_formatter(plt.FuncFormatter(lambda x, _: f\"${x:,.0f}\"))\n",
    "\n",
    "# Show the plot\n",
    "plt.show()"
   ]
  },
  {
   "cell_type": "markdown",
   "metadata": {},
   "source": [
    "2. Top 10 Spenders. User_ID 1000889 spent $602,921.00. "
   ]
  },
  {
   "cell_type": "code",
   "execution_count": 214,
   "metadata": {},
   "outputs": [
    {
     "name": "stdout",
     "output_type": "stream",
     "text": [
      "Top 10 spenders:\n",
      " User_ID\n",
      "1000889    602921\n",
      "1000549    478817\n",
      "1000869    430517\n",
      "1000424    405469\n",
      "1000524    365474\n",
      "1001015    358664\n",
      "1000195    357676\n",
      "1000550    347778\n",
      "1000053    345746\n",
      "1000352    337288\n",
      "Name: Purchase, dtype: int64\n"
     ]
    }
   ],
   "source": [
    "# Group data by User_ID and total purchase amounts\n",
    "total_spend = df.groupby(\"User_ID\")[\"Purchase\"].sum().sort_values(ascending=False).head(10)  # Top 10 spenders\n",
    "\n",
    "print(\"Top 10 spenders:\\n\", total_spend)"
   ]
  },
  {
   "cell_type": "markdown",
   "metadata": {},
   "source": [
    "Bar Chart for Top 10 spenders. "
   ]
  },
  {
   "cell_type": "code",
   "execution_count": 220,
   "metadata": {},
   "outputs": [
    {
     "ename": "AttributeError",
     "evalue": "This method only works with the ScalarFormatter",
     "output_type": "error",
     "traceback": [
      "\u001b[1;31m---------------------------------------------------------------------------\u001b[0m",
      "\u001b[1;31mAttributeError\u001b[0m                            Traceback (most recent call last)",
      "File \u001b[1;32mc:\\Users\\Kyisha\\AppData\\Local\\Programs\\Python\\Python313\\Lib\\site-packages\\matplotlib\\axes\\_base.py:3410\u001b[0m, in \u001b[0;36m_AxesBase.ticklabel_format\u001b[1;34m(self, axis, style, scilimits, useOffset, useLocale, useMathText)\u001b[0m\n\u001b[0;32m   3409\u001b[0m \u001b[38;5;28;01mif\u001b[39;00m is_sci_style \u001b[38;5;129;01mis\u001b[39;00m \u001b[38;5;129;01mnot\u001b[39;00m \u001b[38;5;28;01mNone\u001b[39;00m:\n\u001b[1;32m-> 3410\u001b[0m     \u001b[43maxis\u001b[49m\u001b[38;5;241;43m.\u001b[39;49m\u001b[43mmajor\u001b[49m\u001b[38;5;241;43m.\u001b[39;49m\u001b[43mformatter\u001b[49m\u001b[38;5;241;43m.\u001b[39;49m\u001b[43mset_scientific\u001b[49m(is_sci_style)\n\u001b[0;32m   3411\u001b[0m \u001b[38;5;28;01mif\u001b[39;00m scilimits \u001b[38;5;129;01mis\u001b[39;00m \u001b[38;5;129;01mnot\u001b[39;00m \u001b[38;5;28;01mNone\u001b[39;00m:\n",
      "\u001b[1;31mAttributeError\u001b[0m: 'StrCategoryFormatter' object has no attribute 'set_scientific'",
      "\nThe above exception was the direct cause of the following exception:\n",
      "\u001b[1;31mAttributeError\u001b[0m                            Traceback (most recent call last)",
      "Cell \u001b[1;32mIn[220], line 12\u001b[0m\n\u001b[0;32m      9\u001b[0m plt\u001b[38;5;241m.\u001b[39mxticks(rotation\u001b[38;5;241m=\u001b[39m\u001b[38;5;241m45\u001b[39m)\n\u001b[0;32m     11\u001b[0m \u001b[38;5;66;03m# Remove scientific notation on Y-axis and format for it to show full dollar amounts\u001b[39;00m\n\u001b[1;32m---> 12\u001b[0m \u001b[43mplt\u001b[49m\u001b[38;5;241;43m.\u001b[39;49m\u001b[43mticklabel_format\u001b[49m\u001b[43m(\u001b[49m\u001b[43mstyle\u001b[49m\u001b[38;5;241;43m=\u001b[39;49m\u001b[38;5;124;43m'\u001b[39;49m\u001b[38;5;124;43mplain\u001b[39;49m\u001b[38;5;124;43m'\u001b[39;49m\u001b[43m,\u001b[49m\u001b[43m \u001b[49m\u001b[43maxis\u001b[49m\u001b[38;5;241;43m=\u001b[39;49m\u001b[38;5;124;43m'\u001b[39;49m\u001b[38;5;124;43my\u001b[39;49m\u001b[38;5;124;43m'\u001b[39;49m\u001b[43m)\u001b[49m \n\u001b[0;32m     13\u001b[0m plt\u001b[38;5;241m.\u001b[39mgca()\u001b[38;5;241m.\u001b[39myaxis\u001b[38;5;241m.\u001b[39mset_major_formatter(ScalarFormatter(useOffset\u001b[38;5;241m=\u001b[39m\u001b[38;5;28;01mFalse\u001b[39;00m))\n\u001b[0;32m     15\u001b[0m \u001b[38;5;66;03m# Format Y-axis to show full dollar amounts with commas\u001b[39;00m\n",
      "File \u001b[1;32mc:\\Users\\Kyisha\\AppData\\Local\\Programs\\Python\\Python313\\Lib\\site-packages\\matplotlib\\pyplot.py:4216\u001b[0m, in \u001b[0;36mticklabel_format\u001b[1;34m(axis, style, scilimits, useOffset, useLocale, useMathText)\u001b[0m\n\u001b[0;32m   4206\u001b[0m \u001b[38;5;129m@_copy_docstring_and_deprecators\u001b[39m(Axes\u001b[38;5;241m.\u001b[39mticklabel_format)\n\u001b[0;32m   4207\u001b[0m \u001b[38;5;28;01mdef\u001b[39;00m\u001b[38;5;250m \u001b[39m\u001b[38;5;21mticklabel_format\u001b[39m(\n\u001b[0;32m   4208\u001b[0m     \u001b[38;5;241m*\u001b[39m,\n\u001b[1;32m   (...)\u001b[0m\n\u001b[0;32m   4214\u001b[0m     useMathText: \u001b[38;5;28mbool\u001b[39m \u001b[38;5;241m|\u001b[39m \u001b[38;5;28;01mNone\u001b[39;00m \u001b[38;5;241m=\u001b[39m \u001b[38;5;28;01mNone\u001b[39;00m,\n\u001b[0;32m   4215\u001b[0m ) \u001b[38;5;241m-\u001b[39m\u001b[38;5;241m>\u001b[39m \u001b[38;5;28;01mNone\u001b[39;00m:\n\u001b[1;32m-> 4216\u001b[0m     \u001b[43mgca\u001b[49m\u001b[43m(\u001b[49m\u001b[43m)\u001b[49m\u001b[38;5;241;43m.\u001b[39;49m\u001b[43mticklabel_format\u001b[49m\u001b[43m(\u001b[49m\n\u001b[0;32m   4217\u001b[0m \u001b[43m        \u001b[49m\u001b[43maxis\u001b[49m\u001b[38;5;241;43m=\u001b[39;49m\u001b[43maxis\u001b[49m\u001b[43m,\u001b[49m\n\u001b[0;32m   4218\u001b[0m \u001b[43m        \u001b[49m\u001b[43mstyle\u001b[49m\u001b[38;5;241;43m=\u001b[39;49m\u001b[43mstyle\u001b[49m\u001b[43m,\u001b[49m\n\u001b[0;32m   4219\u001b[0m \u001b[43m        \u001b[49m\u001b[43mscilimits\u001b[49m\u001b[38;5;241;43m=\u001b[39;49m\u001b[43mscilimits\u001b[49m\u001b[43m,\u001b[49m\n\u001b[0;32m   4220\u001b[0m \u001b[43m        \u001b[49m\u001b[43museOffset\u001b[49m\u001b[38;5;241;43m=\u001b[39;49m\u001b[43museOffset\u001b[49m\u001b[43m,\u001b[49m\n\u001b[0;32m   4221\u001b[0m \u001b[43m        \u001b[49m\u001b[43museLocale\u001b[49m\u001b[38;5;241;43m=\u001b[39;49m\u001b[43museLocale\u001b[49m\u001b[43m,\u001b[49m\n\u001b[0;32m   4222\u001b[0m \u001b[43m        \u001b[49m\u001b[43museMathText\u001b[49m\u001b[38;5;241;43m=\u001b[39;49m\u001b[43museMathText\u001b[49m\u001b[43m,\u001b[49m\n\u001b[0;32m   4223\u001b[0m \u001b[43m    \u001b[49m\u001b[43m)\u001b[49m\n",
      "File \u001b[1;32mc:\\Users\\Kyisha\\AppData\\Local\\Programs\\Python\\Python313\\Lib\\site-packages\\matplotlib\\axes\\_base.py:3420\u001b[0m, in \u001b[0;36m_AxesBase.ticklabel_format\u001b[1;34m(self, axis, style, scilimits, useOffset, useLocale, useMathText)\u001b[0m\n\u001b[0;32m   3418\u001b[0m             axis\u001b[38;5;241m.\u001b[39mmajor\u001b[38;5;241m.\u001b[39mformatter\u001b[38;5;241m.\u001b[39mset_useMathText(useMathText)\n\u001b[0;32m   3419\u001b[0m \u001b[38;5;28;01mexcept\u001b[39;00m \u001b[38;5;167;01mAttributeError\u001b[39;00m \u001b[38;5;28;01mas\u001b[39;00m err:\n\u001b[1;32m-> 3420\u001b[0m     \u001b[38;5;28;01mraise\u001b[39;00m \u001b[38;5;167;01mAttributeError\u001b[39;00m(\n\u001b[0;32m   3421\u001b[0m         \u001b[38;5;124m\"\u001b[39m\u001b[38;5;124mThis method only works with the ScalarFormatter\u001b[39m\u001b[38;5;124m\"\u001b[39m) \u001b[38;5;28;01mfrom\u001b[39;00m\u001b[38;5;250m \u001b[39m\u001b[38;5;21;01merr\u001b[39;00m\n",
      "\u001b[1;31mAttributeError\u001b[0m: This method only works with the ScalarFormatter"
     ]
    },
    {
     "data": {
      "image/png": "[encoded data removed]",
      "text/plain": [
       "<Figure size 1000x500 with 1 Axes>"
      ]
     },
     "metadata": {},
     "output_type": "display_data"
    }
   ],
   "source": [
    "# Bar chart with blue bars and black borders\n",
    "plt.figure(figsize=(10, 5))\n",
    "plt.bar(total_spend.index.astype(str), total_spend.values, color=\"#0000FF\", edgecolor=\"black\")\n",
    "\n",
    "# Labels & Title\n",
    "plt.xlabel(\"User ID\")\n",
    "plt.ylabel(\"Total Spend ($)\")\n",
    "plt.title(\"Total Spend per Customer (Top 10)\")\n",
    "plt.xticks(rotation=45)\n",
    "\n",
    "# Remove scientific notation on Y-axis and format for it to show full dollar amounts\n",
    "plt.ticklabel_format(style='plain', axis='y') \n",
    "plt.gca().yaxis.set_major_formatter(ScalarFormatter(useOffset=False))\n",
    "\n",
    "# Format Y-axis to show full dollar amounts with commas\n",
    "plt.gca().yaxis.set_major_formatter(mtick.FuncFormatter(lambda x, _: f\"${x:,.0f}\"))\n",
    "\n",
    "# Show plot\n",
    "plt.show()"
   ]
  },
  {
   "cell_type": "markdown",
   "metadata": {},
   "source": [
    "3. Average spent by Age"
   ]
  },
  {
   "cell_type": "code",
   "execution_count": null,
   "metadata": {},
   "outputs": [
    {
     "name": "stdout",
     "output_type": "stream",
     "text": [
      "Average spend by age group (rounded):\n",
      " Age\n",
      "9     8933\n",
      "21    9170\n",
      "30    9253\n",
      "40    9331\n",
      "48    9209\n",
      "53    9535\n",
      "55    9336\n",
      "Name: Purchase, dtype: int64\n"
     ]
    }
   ],
   "source": [
    "avg_spend_age = df1.groupby(\"Age\")[\"Purchase\"].mean().round(0).astype(int)\n",
    "print(\"Average spend by age group (rounded):\\n\", avg_spend_age)"
   ]
  },
  {
   "cell_type": "code",
   "execution_count": null,
   "metadata": {},
   "outputs": [
    {
     "data": {
      "image/png": "[encoded data removed]",
      "text/plain": [
       "<Figure size 1000x500 with 1 Axes>"
      ]
     },
     "metadata": {},
     "output_type": "display_data"
    }
   ],
   "source": [
    "# Create a bar chart\n",
    "plt.figure(figsize=(10, 5))\n",
    "avg_spend_age.plot(kind=\"bar\", color=\"lightcoral\", edgecolor=\"black\")\n",
    "\n",
    "# Labels & Title\n",
    "plt.xlabel(\"Age Group\")\n",
    "plt.ylabel(\"Average Purchase Amount ($)\")\n",
    "plt.title(\"Average Spending per Age Group\")\n",
    "plt.xticks(rotation=45)\n",
    "\n",
    "# Y-axis as dollars with commas\n",
    "plt.gca().yaxis.set_major_formatter(mtick.FuncFormatter(lambda x, _: f\"${x:,.2f}\"))\n",
    "\n",
    "# Show plot\n",
    "plt.show()"
   ]
  },
  {
   "cell_type": "markdown",
   "metadata": {},
   "source": [
    "4. Holiday vs Non Holiday spending "
   ]
  },
  {
   "cell_type": "code",
   "execution_count": null,
   "metadata": {},
   "outputs": [
    {
     "name": "stdout",
     "output_type": "stream",
     "text": [
      "Total sales during holidays:\n",
      " Holiday_Flag\n",
      "0.0    6231919429\n",
      "1.0     505299550\n",
      "Name: Weekly_Sales, dtype: int64\n"
     ]
    }
   ],
   "source": [
    "sales_holiday = df.groupby(\"Holiday_Flag\")[\"Weekly_Sales\"].sum()\n",
    "\n",
    "# round the sales to the nearest integer\n",
    "sales_holiday = sales_holiday.round().astype(int)\n",
    "\n",
    "print(\"Total sales during holidays:\\n\", sales_holiday)"
   ]
  },
  {
   "cell_type": "markdown",
   "metadata": {},
   "source": [
    "Create Pie Chart "
   ]
  },
  {
   "cell_type": "code",
   "execution_count": null,
   "metadata": {},
   "outputs": [
    {
     "data": {
      "image/png": "[encoded data removed]",
      "text/plain": [
       "<Figure size 600x600 with 1 Axes>"
      ]
     },
     "metadata": {},
     "output_type": "display_data"
    }
   ],
   "source": [
    "labels = [\"Non-Holiday Sales\", \"Holiday Sales\"]\n",
    "colors = [\"green\", \"red\"]\n",
    "\n",
    "plt.figure(figsize=(6, 6))\n",
    "plt.pie(sales_holiday, labels=labels, autopct=\"%1.1f%%\", colors=colors, startangle=140)\n",
    "plt.title(\"Holiday vs. Non-Holiday Sales\")\n",
    "plt.show()"
   ]
  }
 ],
 "metadata": {
  "kernelspec": {
   "display_name": "Python 3",
   "language": "python",
   "name": "python3"
  },
  "language_info": {
   "codemirror_mode": {
    "name": "ipython",
    "version": 3
   },
   "file_extension": ".py",
   "mimetype": "text/x-python",
   "name": "python",
   "nbconvert_exporter": "python",
   "pygments_lexer": "ipython3",
   "version": "3.13.2"
  }
 },
 "nbformat": 4,
 "nbformat_minor": 2
}
