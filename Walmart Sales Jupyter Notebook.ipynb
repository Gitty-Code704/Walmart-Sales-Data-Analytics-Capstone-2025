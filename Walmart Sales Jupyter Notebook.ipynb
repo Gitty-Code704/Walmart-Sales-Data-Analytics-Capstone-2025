{
 "cells": [
  {
   "cell_type": "code",
   "execution_count": 6,
   "metadata": {},
   "outputs": [
    {
     "name": "stdout",
     "output_type": "stream",
     "text": [
      "   User_ID Product_ID Gender   Age  Occupation City_Category  \\\n",
      "0  1000001  P00069042      F  0-17          10             A   \n",
      "1  1000001  P00248942      F  0-17          10             A   \n",
      "2  1000001  P00087842      F  0-17          10             A   \n",
      "3  1000001  P00085442      F  0-17          10             A   \n",
      "4  1000002  P00285442      M   55+          16             C   \n",
      "\n",
      "  Stay_In_Current_City_Years  Marital_Status  Product_Category  Purchase  \n",
      "0                          2               0                 3      8370  \n",
      "1                          2               0                 1     15200  \n",
      "2                          2               0                12      1422  \n",
      "3                          2               0                12      1057  \n",
      "4                         4+               0                 8      7969  \n"
     ]
    }
   ],
   "source": [
    "import pandas as pd\n",
    "import zipfile\n",
    "\n",
    "# Define the ZIP file path\n",
    "zip_file_path = r\"C:\\Users\\Kyisha\\OneDrive\\Walmart Sales Data Analytics Capstone 2025\\Dataset_1.zip\"\n",
    "\n",
    "# Open the ZIP file and list its contents\n",
    "with zipfile.ZipFile(zip_file_path, 'r') as zip_ref:\n",
    "    zip_ref.extractall(\"extracted_files\")  # Extract to a folder\n",
    "\n",
    "# Check extracted files (modify if filename is different)\n",
    "csv_file_path = \"extracted_files/walmart.csv\"\n",
    "\n",
    "# Load the extracted CSV file\n",
    "df = pd.read_csv(csv_file_path)\n",
    "\n",
    "# Display the first few rows\n",
    "print(df.head())\n"
   ]
  },
  {
   "cell_type": "code",
   "execution_count": 9,
   "metadata": {},
   "outputs": [
    {
     "name": "stdout",
     "output_type": "stream",
     "text": [
      "Extracted files: ['walmart.csv', 'Walmart_Sales.csv']\n",
      "   Store        Date  Weekly_Sales  Holiday_Flag  Temperature  Fuel_Price  \\\n",
      "0      1  05-02-2010    1643690.90             0        42.31       2.572   \n",
      "1      1  12-02-2010    1641957.44             1        38.51       2.548   \n",
      "2      1  19-02-2010    1611968.17             0        39.93       2.514   \n",
      "3      1  26-02-2010    1409727.59             0        46.63       2.561   \n",
      "4      1  05-03-2010    1554806.68             0        46.50       2.625   \n",
      "\n",
      "          CPI  Unemployment  \n",
      "0  211.096358         8.106  \n",
      "1  211.242170         8.106  \n",
      "2  211.289143         8.106  \n",
      "3  211.319643         8.106  \n",
      "4  211.350143         8.106  \n"
     ]
    }
   ],
   "source": [
    "import pandas as pd\n",
    "import zipfile\n",
    "import os\n",
    "\n",
    "# Define the ZIP file path (Make sure to use 'r' to handle Windows paths)\n",
    "zip_file_path = r\"C:\\Users\\Kyisha\\OneDrive\\Walmart Sales Data Analytics Capstone 2025\\Dataset_2.zip\"\n",
    "\n",
    "# Extract ZIP file contents to a folder\n",
    "extract_folder = \"extracted_files\"\n",
    "\n",
    "with zipfile.ZipFile(zip_file_path, 'r') as zip_ref:\n",
    "    zip_ref.extractall(extract_folder)  # Extract files to the folder\n",
    "\n",
    "# List extracted files\n",
    "extracted_files = os.listdir(extract_folder)\n",
    "print(\"Extracted files:\", extracted_files)  # Check the correct filename\n",
    "\n",
    "# Update this if the filename inside the ZIP is different\n",
    "csv_file_path = os.path.join(extract_folder, \"Walmart_Sales.csv\")\n",
    "\n",
    "# Load CSV file into a DataFrame\n",
    "df = pd.read_csv(csv_file_path)\n",
    "\n",
    "# Display the first few rows\n",
    "print(df.head())\n"
   ]
  }
 ],
 "metadata": {
  "kernelspec": {
   "display_name": "Python 3",
   "language": "python",
   "name": "python3"
  },
  "language_info": {
   "codemirror_mode": {
    "name": "ipython",
    "version": 3
   },
   "file_extension": ".py",
   "mimetype": "text/x-python",
   "name": "python",
   "nbconvert_exporter": "python",
   "pygments_lexer": "ipython3",
   "version": "3.13.2"
  }
 },
 "nbformat": 4,
 "nbformat_minor": 2
}
